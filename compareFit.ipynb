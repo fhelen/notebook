{
 "cells": [
  {
   "cell_type": "code",
   "execution_count": 1,
   "metadata": {},
   "outputs": [],
   "source": [
    "#include \"env_cling.h\""
   ]
  },
  {
   "cell_type": "code",
   "execution_count": 2,
   "metadata": {},
   "outputs": [],
   "source": [
    "#include <string>\n",
    "#include <iostream>\n",
    "#include \"xplot/xfigure.hpp\"\n",
    "#include \"xplot/xmarks.hpp\"\n",
    "#include \"xplot/xaxes.hpp\"\n",
    "#include \"xwidgets/xdropdown.hpp\"\n",
    "#include <gsl/gsl_rng.h>\n",
    "#include <gsl/gsl_randist.h>\n",
    "#include <gsl/gsl_cdf.h>\n",
    "\n",
    "\n",
    "#include \"phenoFunctions.hxx\"\n",
    "#include \"utils.hxx\"\n",
    "#include \"jupyterFunctions.hxx\"\n",
    "\n"
   ]
  },
  {
   "cell_type": "code",
   "execution_count": 3,
   "metadata": {},
   "outputs": [],
   "source": [
    "using S= std::string;\n",
    "using VS=std::vector<S>;\n",
    "using VI=std::vector<int>;\n",
    "using VD=std::vector<double>;\n",
    "using D=double;\n",
    "using PVI=std::pair<VI,VI>;\n",
    "\n",
    "utils::LibUtils U;\n",
    "using V=vnl_vector<D>;\n",
    "using T=std::tuple<D,D,D,V>;\n",
    "auto phFs(pheno::fGaussian<V>);"
   ]
  },
  {
   "cell_type": "code",
   "execution_count": 4,
   "metadata": {},
   "outputs": [],
   "source": [
    "VD x(1600-600);\n",
    "int k=600;\n",
    "std::generate(x.begin(), x.end(), [&k]{ return k+=1; });"
   ]
  },
  {
   "cell_type": "code",
   "execution_count": 5,
   "metadata": {},
   "outputs": [],
   "source": [
    "size_t n=1600-600;"
   ]
  },
  {
   "cell_type": "code",
   "execution_count": 6,
   "metadata": {},
   "outputs": [],
   "source": [
    "V data{n};\n",
    "V w{n};\n",
    "V y{n};\n",
    "V w_norm{n};"
   ]
  },
  {
   "cell_type": "code",
   "execution_count": 7,
   "metadata": {},
   "outputs": [],
   "source": [
    "V t(x.data(),x.size());"
   ]
  },
  {
   "cell_type": "code",
   "execution_count": 8,
   "metadata": {},
   "outputs": [],
   "source": [
    "gsl_rng * r;\n",
    "gsl_rng_env_setup();\n",
    "r = gsl_rng_alloc(gsl_rng_default);"
   ]
  },
  {
   "cell_type": "code",
   "execution_count": 9,
   "metadata": {},
   "outputs": [],
   "source": [
    "for (size_t i = 0; i < n; i++)\n",
    "{\n",
    "    double yi = 50*exp(-std::pow(((t[i]-1300)/400),2));\n",
    "    y[i]=yi;\n",
    "    double si = 2;\n",
    "    double dy = gsl_ran_gaussian(r, 2);\n",
    "    data[i] = yi + dy;\n",
    "    w[i] = 1.0 / (si * si);\n",
    "};\n"
   ]
  },
  {
   "cell_type": "code",
   "execution_count": 10,
   "metadata": {},
   "outputs": [
    {
     "data": {
      "application/vnd.jupyter.widget-view+json": {
       "model_id": "e8cdc3740af143ceb2ebe58a054217d6",
       "version_major": 2,
       "version_minor": 0
      },
      "text/plain": [
       "A Jupyter widget"
      ]
     },
     "execution_count": 10,
     "metadata": {},
     "output_type": "execute_result"
    }
   ],
   "source": [
    "xpl::figure fig;\n",
    "fig"
   ]
  },
  {
   "cell_type": "code",
   "execution_count": 11,
   "metadata": {},
   "outputs": [],
   "source": [
    "xpl::linear_scale sx, sy;\n",
    "xpl::lines line(sx,sy);\n",
    "line.x=t;\n",
    "line.y=y;"
   ]
  },
  {
   "cell_type": "code",
   "execution_count": 12,
   "metadata": {},
   "outputs": [],
   "source": [
    "line.stroke_width=1;\n",
    "fig.add_mark(line);\n",
    "xpl::axis hx(sx), hy(sy);\n",
    "hy.orientation = \"vertical\";\n",
    "fig.add_axis(hx);\n",
    "fig.add_axis(hy);"
   ]
  },
  {
   "cell_type": "code",
   "execution_count": 13,
   "metadata": {},
   "outputs": [],
   "source": [
    "xpl::lines pts(sx,sy);\n",
    "pts.x=t;\n",
    "pts.y=data;"
   ]
  },
  {
   "cell_type": "code",
   "execution_count": 14,
   "metadata": {},
   "outputs": [],
   "source": [
    "pts.marker=\"circle\";\n",
    "pts.marker_size=5;\n",
    "pts.colors=std::vector<std::string>({\"black\"});\n",
    "pts.stroke_width=0;\n",
    "fig.add_mark(pts);"
   ]
  },
  {
   "cell_type": "code",
   "execution_count": 15,
   "metadata": {},
   "outputs": [],
   "source": [
    "inv::ParameterCostFunction f{3, static_cast<unsigned int>(t.size()),data,t,w,phFs};"
   ]
  },
  {
   "cell_type": "code",
   "execution_count": 16,
   "metadata": {},
   "outputs": [],
   "source": [
    "inv::VnlLevenbergMarquart L{f};"
   ]
  },
  {
   "cell_type": "code",
   "execution_count": 17,
   "metadata": {},
   "outputs": [],
   "source": [
    "auto initParameters=pheno::gaussianInitParameters<V,V>(data,t);"
   ]
  },
  {
   "cell_type": "code",
   "execution_count": 18,
   "metadata": {},
   "outputs": [],
   "source": [
    "L.minimize(initParameters);"
   ]
  },
  {
   "cell_type": "code",
   "execution_count": 19,
   "metadata": {},
   "outputs": [],
   "source": [
    "auto yHat=phFs(t,initParameters);        "
   ]
  },
  {
   "cell_type": "code",
   "execution_count": 20,
   "metadata": {},
   "outputs": [],
   "source": [
    "xpl::lines fit(sx,sy);\n",
    "fit.x=t;\n",
    "fit.y=yHat;"
   ]
  },
  {
   "cell_type": "code",
   "execution_count": 21,
   "metadata": {},
   "outputs": [],
   "source": [
    "fit.stroke_width=2;\n",
    "fit.line_style=\"dashed\";\n",
    "fit.colors=std::vector<std::string>({\"red\"});\n",
    "fig.add_mark(fit);"
   ]
  },
  {
   "cell_type": "code",
   "execution_count": 22,
   "metadata": {},
   "outputs": [
    {
     "name": "stdout",
     "output_type": "stream",
     "text": [
      "49.9102 1299.68 401.491\n"
     ]
    }
   ],
   "source": [
    "std::cout<<initParameters<<std::endl;"
   ]
  },
  {
   "cell_type": "code",
   "execution_count": 23,
   "metadata": {},
   "outputs": [],
   "source": [
    "auto residuals=L.getResiduals(yHat);\n",
    "auto cost=L.getCost(residuals);\n",
    "auto reducedCost=L.getReducedCost(residuals);\n",
    "auto prob=L.getCostProba(residuals,0.05);"
   ]
  },
  {
   "cell_type": "code",
   "execution_count": 24,
   "metadata": {},
   "outputs": [
    {
     "data": {
      "text/plain": [
       "951.679"
      ]
     },
     "execution_count": 24,
     "metadata": {},
     "output_type": "execute_result"
    }
   ],
   "source": [
    "cost"
   ]
  },
  {
   "cell_type": "code",
   "execution_count": 25,
   "metadata": {},
   "outputs": [
    {
     "data": {
      "text/plain": [
       "0.954542"
      ]
     },
     "execution_count": 25,
     "metadata": {},
     "output_type": "execute_result"
    }
   ],
   "source": [
    "reducedCost"
   ]
  },
  {
   "cell_type": "code",
   "execution_count": 26,
   "metadata": {},
   "outputs": [
    {
     "data": {
      "text/plain": [
       "0.845126"
      ]
     },
     "execution_count": 26,
     "metadata": {},
     "output_type": "execute_result"
    }
   ],
   "source": [
    "prob"
   ]
  },
  {
   "cell_type": "markdown",
   "metadata": {},
   "source": [
    "# Normalisation"
   ]
  },
  {
   "cell_type": "code",
   "execution_count": 27,
   "metadata": {},
   "outputs": [],
   "source": [
    "auto tuple=pheno::normalizedProfile<V,pheno::TupleType>(data,t);\n",
    "auto prof=std::get<3>(tuple);\n",
    "auto t_max=std::get<2>(tuple);\n",
    "auto vmin=std::get<0>(tuple);\n",
    "auto vmax=std::get<1>(tuple);"
   ]
  },
  {
   "cell_type": "code",
   "execution_count": 28,
   "metadata": {},
   "outputs": [
    {
     "data": {
      "application/vnd.jupyter.widget-view+json": {
       "model_id": "f3d61c9c16494ec187a44dc3d2ce5259",
       "version_major": 2,
       "version_minor": 0
      },
      "text/plain": [
       "A Jupyter widget"
      ]
     },
     "execution_count": 28,
     "metadata": {},
     "output_type": "execute_result"
    }
   ],
   "source": [
    "xpl::figure fig_norm;\n",
    "fig_norm"
   ]
  },
  {
   "cell_type": "code",
   "execution_count": 29,
   "metadata": {},
   "outputs": [],
   "source": [
    "xpl::linear_scale sx_norm, sy_norm;\n",
    "xpl::lines line_norm(sx_norm,sy_norm);\n",
    "line_norm.x=t;\n",
    "line_norm.y=prof;"
   ]
  },
  {
   "cell_type": "code",
   "execution_count": 30,
   "metadata": {},
   "outputs": [],
   "source": [
    "line_norm.stroke_width=0;\n",
    "line_norm.marker=\"circle\";\n",
    "line_norm.marker_size=2;\n",
    "fig_norm.add_mark(line_norm);"
   ]
  },
  {
   "cell_type": "code",
   "execution_count": 31,
   "metadata": {},
   "outputs": [],
   "source": [
    "xpl::axis hx_norm(sx_norm), hy_norm(sy_norm);\n",
    "hy_norm.orientation = \"vertical\";\n",
    "fig_norm.add_axis(hx_norm);\n",
    "fig_norm.add_axis(hy_norm);"
   ]
  },
  {
   "cell_type": "code",
   "execution_count": 32,
   "metadata": {},
   "outputs": [],
   "source": [
    "for (size_t i = 0; i < n; i++)\n",
    "{\n",
    "    double si = 2/(vmax-vmin);\n",
    "    w_norm[i] = 1.0 / (si*si);\n",
    "};"
   ]
  },
  {
   "cell_type": "code",
   "execution_count": 33,
   "metadata": {},
   "outputs": [],
   "source": [
    "auto initParameters_norm=pheno::gaussianInitParameters<V,V>(prof,t);"
   ]
  },
  {
   "cell_type": "code",
   "execution_count": 34,
   "metadata": {},
   "outputs": [
    {
     "name": "stdout",
     "output_type": "stream",
     "text": [
      "1 1328 272\n"
     ]
    }
   ],
   "source": [
    "std::cout<<initParameters_norm<<std::endl;"
   ]
  },
  {
   "cell_type": "code",
   "execution_count": 35,
   "metadata": {},
   "outputs": [],
   "source": [
    "inv::ParameterCostFunction fNorm{3, static_cast<unsigned int>(t.size()),prof,t,w_norm,phFs};"
   ]
  },
  {
   "cell_type": "code",
   "execution_count": 36,
   "metadata": {},
   "outputs": [],
   "source": [
    "inv::VnlLevenbergMarquart Lnorm{fNorm};\n",
    "Lnorm.minimize(initParameters_norm);"
   ]
  },
  {
   "cell_type": "code",
   "execution_count": 37,
   "metadata": {},
   "outputs": [
    {
     "name": "stdout",
     "output_type": "stream",
     "text": [
      "0.904552 1299.5 422.119\n"
     ]
    }
   ],
   "source": [
    "std::cout<<initParameters_norm<<std::endl;"
   ]
  },
  {
   "cell_type": "code",
   "execution_count": 38,
   "metadata": {},
   "outputs": [],
   "source": [
    "auto yHat_norm=phFs(t,initParameters_norm);        "
   ]
  },
  {
   "cell_type": "code",
   "execution_count": 39,
   "metadata": {},
   "outputs": [],
   "source": [
    "xpl::lines fit_norm(sx_norm,sy_norm);\n",
    "fit_norm.x=t;\n",
    "fit_norm.y=yHat_norm;"
   ]
  },
  {
   "cell_type": "code",
   "execution_count": 40,
   "metadata": {},
   "outputs": [],
   "source": [
    "fit_norm.stroke_width=2;\n",
    "fit_norm.line_style=\"dashed\";\n",
    "fit_norm.colors=std::vector<std::string>({\"black\"});\n",
    "fig_norm.add_mark(fit_norm);"
   ]
  },
  {
   "cell_type": "code",
   "execution_count": 41,
   "metadata": {},
   "outputs": [],
   "source": [
    "auto residuals_norm=Lnorm.getResiduals(yHat_norm);\n",
    "auto cost_nom=Lnorm.getCost(residuals_norm);\n",
    "auto reducedCost_norm=Lnorm.getReducedCost(residuals_norm);\n",
    "auto prob_nom=Lnorm.getCostProba(residuals_norm,0.05);"
   ]
  },
  {
   "cell_type": "code",
   "execution_count": 42,
   "metadata": {},
   "outputs": [
    {
     "data": {
      "text/plain": [
       "1010.97"
      ]
     },
     "execution_count": 42,
     "metadata": {},
     "output_type": "execute_result"
    }
   ],
   "source": [
    "cost_nom"
   ]
  },
  {
   "cell_type": "code",
   "execution_count": 43,
   "metadata": {},
   "outputs": [
    {
     "data": {
      "text/plain": [
       "1.01401"
      ]
     },
     "execution_count": 43,
     "metadata": {},
     "output_type": "execute_result"
    }
   ],
   "source": [
    "reducedCost_norm"
   ]
  },
  {
   "cell_type": "code",
   "execution_count": 44,
   "metadata": {},
   "outputs": [
    {
     "data": {
      "text/plain": [
       "0.372107"
      ]
     },
     "execution_count": 44,
     "metadata": {},
     "output_type": "execute_result"
    }
   ],
   "source": [
    "prob_nom"
   ]
  },
  {
   "cell_type": "code",
   "execution_count": 45,
   "metadata": {},
   "outputs": [],
   "source": [
    "using M= vnl_matrix<double> ;"
   ]
  },
  {
   "cell_type": "code",
   "execution_count": 46,
   "metadata": {},
   "outputs": [],
   "source": [
    "int nbSeeds=1000;"
   ]
  },
  {
   "cell_type": "code",
   "execution_count": 47,
   "metadata": {},
   "outputs": [],
   "source": [
    "M seeds(n,nbSeeds);"
   ]
  },
  {
   "cell_type": "code",
   "execution_count": 48,
   "metadata": {},
   "outputs": [],
   "source": [
    "seeds.fill(0);"
   ]
  },
  {
   "cell_type": "code",
   "execution_count": 49,
   "metadata": {},
   "outputs": [],
   "source": [
    "for(auto i=0;i<nbSeeds;i++){\n",
    "    V col{t.size()};\n",
    "    for (auto j=0;j<t.size();j++){\n",
    "            double yt = 50*exp(-std::pow(((t[i]-1300)/400),2));\n",
    "            double dyt = gsl_ran_gaussian(r, 2);\n",
    "            col[j] = yt + dyt;\n",
    "    }\n",
    "    seeds.set_column(i,col);\n",
    "}"
   ]
  },
  {
   "cell_type": "code",
   "execution_count": 50,
   "metadata": {},
   "outputs": [],
   "source": [
    "V seed_chisq{n};"
   ]
  },
  {
   "cell_type": "code",
   "execution_count": 51,
   "metadata": {},
   "outputs": [],
   "source": [
    "for(auto k=0;k<n;k++){\n",
    "    auto params=pheno::gaussianInitParameters<V,V>(seeds.get_column(k),t); \n",
    "    inv::ParameterCostFunction PCF{3, static_cast<unsigned int>(t.size()),seeds.get_column(k),t,w,phFs};\n",
    "    inv::VnlLevenbergMarquart Leven{PCF};\n",
    "    Leven.minimize(params);\n",
    "    auto yt=phFs(t,params);  \n",
    "    auto res=Leven.getResiduals(yt);\n",
    "    auto c=Leven.getCost(res);\n",
    "    seed_chisq[k]=c;\n",
    "}"
   ]
  },
  {
   "cell_type": "code",
   "execution_count": 52,
   "metadata": {},
   "outputs": [],
   "source": [
    "auto chisq_mean=seed_chisq.mean()"
   ]
  },
  {
   "cell_type": "code",
   "execution_count": 53,
   "metadata": {},
   "outputs": [
    {
     "data": {
      "text/plain": [
       "999.201"
      ]
     },
     "execution_count": 53,
     "metadata": {},
     "output_type": "execute_result"
    }
   ],
   "source": [
    "chisq_mean"
   ]
  },
  {
   "cell_type": "code",
   "execution_count": 54,
   "metadata": {},
   "outputs": [],
   "source": [
    "auto deviation=std::sqrt(seed_chisq.squared_magnitude()/n);"
   ]
  },
  {
   "cell_type": "code",
   "execution_count": 55,
   "metadata": {},
   "outputs": [
    {
     "data": {
      "text/plain": [
       "1001.57"
      ]
     },
     "execution_count": 55,
     "metadata": {},
     "output_type": "execute_result"
    }
   ],
   "source": [
    "deviation"
   ]
  },
  {
   "cell_type": "code",
   "execution_count": 56,
   "metadata": {},
   "outputs": [],
   "source": [
    "xpl::linear_scale xHist, yHist;\n",
    "xpl::hist hist(xHist, yHist);\n",
    "hist.sample = seed_chisq;"
   ]
  },
  {
   "cell_type": "code",
   "execution_count": 57,
   "metadata": {},
   "outputs": [
    {
     "data": {
      "application/vnd.jupyter.widget-view+json": {
       "model_id": "fa1321aa1f42480b8aab10a240fcf3c8",
       "version_major": 2,
       "version_minor": 0
      },
      "text/plain": [
       "A Jupyter widget"
      ]
     },
     "execution_count": 57,
     "metadata": {},
     "output_type": "execute_result"
    }
   ],
   "source": [
    "xpl::figure fig_hist;\n",
    "fig_hist.add_mark(hist);\n",
    "fig_hist"
   ]
  },
  {
   "cell_type": "code",
   "execution_count": 58,
   "metadata": {},
   "outputs": [],
   "source": [
    "xpl::axis hxHist(xHist), hyHist(yHist);\n",
    "hyHist.orientation = \"vertical\";\n",
    "fig_hist.add_axis(hxHist);\n",
    "fig_hist.add_axis(hyHist);"
   ]
  },
  {
   "cell_type": "code",
   "execution_count": null,
   "metadata": {},
   "outputs": [],
   "source": []
  }
 ],
 "metadata": {
  "kernelspec": {
   "display_name": "C++14",
   "language": "C++14",
   "name": "xeus-cling-cpp14"
  },
  "language_info": {
   "codemirror_mode": "text/x-c++src",
   "file_extension": ".cpp",
   "mimetype": "text/x-c++src",
   "name": "c++",
   "version": "-std=c++14"
  }
 },
 "nbformat": 4,
 "nbformat_minor": 2
}
